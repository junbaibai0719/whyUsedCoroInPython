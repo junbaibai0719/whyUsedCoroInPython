{
 "cells": [
  {
   "cell_type": "code",
   "execution_count": 51,
   "id": "d30b1026-3b7f-4216-af14-e4c6912080bf",
   "metadata": {},
   "outputs": [],
   "source": [
    "import concurrent.futures\n",
    "import threading\n",
    "\n",
    "def gen():\n",
    "    def callthread(fut:concurrent.futures.Future):\n",
    "        import time\n",
    "        time.sleep(3)\n",
    "        fut.set_result(\"1\")\n",
    "    fut = concurrent.futures.Future()\n",
    "    t = threading.Thread(target=callthread, args=(fut,))\n",
    "    t.start()\n",
    "    print(t)\n",
    "    while True:\n",
    "        if fut.done():\n",
    "            break\n",
    "        yield\n",
    "    return fut.result()\n",
    "\n",
    "def test_gen():\n",
    "    res = yield from gen()\n",
    "    print(\"res\", res)\n",
    "    return 114514\n",
    "\n",
    "\n"
   ]
  },
  {
   "cell_type": "code",
   "execution_count": 52,
   "id": "ef799df0-f6d6-4336-a744-028b3b3a035f",
   "metadata": {},
   "outputs": [],
   "source": [
    "tg = test_gen()\n"
   ]
  },
  {
   "cell_type": "code",
   "execution_count": 58,
   "id": "5ff2bdbe-5e8c-4d2a-8806-3eac778d1a7e",
   "metadata": {},
   "outputs": [
    {
     "name": "stdout",
     "output_type": "stream",
     "text": [
      "StopIteration \n"
     ]
    }
   ],
   "source": [
    "try:\n",
    "    res = next(tg)\n",
    "    print(\"res1\", res)\n",
    "except StopIteration as e:\n",
    "    print(\"StopIteration\", e)"
   ]
  },
  {
   "cell_type": "code",
   "execution_count": null,
   "id": "60122229-ab3c-445b-a1c1-6034a8998b75",
   "metadata": {},
   "outputs": [],
   "source": []
  },
  {
   "cell_type": "code",
   "execution_count": null,
   "id": "f906ff4a-0d1e-424f-8b8f-266c76d0eec7",
   "metadata": {},
   "outputs": [],
   "source": []
  },
  {
   "cell_type": "code",
   "execution_count": null,
   "id": "c75ce663-97a6-496f-9edd-7dd90c0e2362",
   "metadata": {},
   "outputs": [],
   "source": []
  }
 ],
 "metadata": {
  "kernelspec": {
   "display_name": "Python 3 (ipykernel)",
   "language": "python",
   "name": "python3"
  },
  "language_info": {
   "codemirror_mode": {
    "name": "ipython",
    "version": 3
   },
   "file_extension": ".py",
   "mimetype": "text/x-python",
   "name": "python",
   "nbconvert_exporter": "python",
   "pygments_lexer": "ipython3",
   "version": "3.9.10"
  }
 },
 "nbformat": 4,
 "nbformat_minor": 5
}
